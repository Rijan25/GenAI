{
 "cells": [
  {
   "cell_type": "code",
   "execution_count": 5,
   "id": "ef6f689e",
   "metadata": {},
   "outputs": [],
   "source": [
    "from langgraph.graph import START,END,StateGraph\n",
    "from typing import TypedDict"
   ]
  },
  {
   "cell_type": "code",
   "execution_count": null,
   "id": "d4a4018a",
   "metadata": {},
   "outputs": [],
   "source": [
    "# making the state of the graph\n",
    "class BMIState(TypedDict):\n",
    "    weight:float\n",
    "    height:float\n",
    "    bmi:float\n",
    "    category:str"
   ]
  },
  {
   "cell_type": "code",
   "execution_count": null,
   "id": "1f94d395",
   "metadata": {},
   "outputs": [],
   "source": [
    "def calculate_bmi(state:BMIState) -> BMIState:\n",
    "    weight=state['weight']\n",
    "    height=state['height']\n",
    "    bmi=state['bmi']=weight/(height**2)\n",
    "    state['bmi']=bmi\n",
    "    return state"
   ]
  },
  {
   "cell_type": "code",
   "execution_count": 4,
   "id": "1591f555",
   "metadata": {},
   "outputs": [],
   "source": [
    "def find_category(state:BMIState)->BMIState:\n",
    "    bmi=state['bmi']\n",
    "    if bmi<18.5:\n",
    "        state['category']='Underweight'\n",
    "    elif 18.5<=bmi<24.9:\n",
    "        state['category']='Normal weight'\n",
    "    elif 25<=bmi<29.9:\n",
    "        state['category']='Overweight'\n",
    "    else:\n",
    "        state['category']='Obesity'\n",
    "\n",
    "    return state    "
   ]
  },
  {
   "cell_type": "code",
   "execution_count": 7,
   "id": "bd90264a",
   "metadata": {},
   "outputs": [
    {
     "data": {
      "image/png": "[encoded data removed]",
      "text/plain": [
       "<langgraph.graph.state.CompiledStateGraph object at 0x0000022959959640>"
      ]
     },
     "execution_count": 7,
     "metadata": {},
     "output_type": "execute_result"
    }
   ],
   "source": [
    "graph=StateGraph(BMIState)\n",
    "\n",
    "# make the nodes of the graph\n",
    "graph.add_node('calculate_bmi',calculate_bmi)\n",
    "graph.add_node('find_category',find_category)\n",
    "\n",
    "# add the edges to the graph\n",
    "graph.add_edge(START,'calculate_bmi')\n",
    "graph.add_edge('calculate_bmi','find_category')\n",
    "graph.add_edge('find_category',END)\n",
    "\n",
    "# compile the graph\n",
    "workflow=graph.compile()\n",
    "workflow"
   ]
  },
  {
   "cell_type": "code",
   "execution_count": 10,
   "id": "ffe4696a",
   "metadata": {},
   "outputs": [
    {
     "data": {
      "text/plain": [
       "{'weight': 90,\n",
       " 'height': 1.75,\n",
       " 'bmi': 29.387755102040817,\n",
       " 'category': 'Overweight'}"
      ]
     },
     "execution_count": 10,
     "metadata": {},
     "output_type": "execute_result"
    }
   ],
   "source": [
    "# run the graph\n",
    "initial_state={'weight':90,'height':1.75}\n",
    "final_workflow=workflow.invoke(initial_state)\n",
    "final_workflow"
   ]
  },
  {
   "cell_type": "code",
   "execution_count": null,
   "id": "de3d88b6",
   "metadata": {},
   "outputs": [],
   "source": []
  },
  {
   "cell_type": "code",
   "execution_count": null,
   "id": "56af0d47",
   "metadata": {},
   "outputs": [],
   "source": []
  },
  {
   "cell_type": "code",
   "execution_count": null,
   "id": "db0e62f6",
   "metadata": {},
   "outputs": [],
   "source": []
  },
  {
   "cell_type": "code",
   "execution_count": null,
   "id": "7e45850d",
   "metadata": {},
   "outputs": [],
   "source": []
  },
  {
   "cell_type": "code",
   "execution_count": null,
   "id": "16967f20",
   "metadata": {},
   "outputs": [],
   "source": []
  },
  {
   "cell_type": "code",
   "execution_count": null,
   "id": "8013ce7f",
   "metadata": {},
   "outputs": [],
   "source": []
  },
  {
   "cell_type": "code",
   "execution_count": null,
   "id": "880b7863",
   "metadata": {},
   "outputs": [],
   "source": []
  }
 ],
 "metadata": {
  "kernelspec": {
   "display_name": "genai (3.12.7)",
   "language": "python",
   "name": "python3"
  },
  "language_info": {
   "codemirror_mode": {
    "name": "ipython",
    "version": 3
   },
   "file_extension": ".py",
   "mimetype": "text/x-python",
   "name": "python",
   "nbconvert_exporter": "python",
   "pygments_lexer": "ipython3",
   "version": "3.12.7"
  }
 },
 "nbformat": 4,
 "nbformat_minor": 5
}
