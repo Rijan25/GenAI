{
 "cells": [
  {
   "cell_type": "code",
   "execution_count": 1,
   "id": "5feab7aa",
   "metadata": {},
   "outputs": [
    {
     "name": "stderr",
     "output_type": "stream",
     "text": [
      "c:\\Users\\rijan\\OneDrive\\Desktop\\GenAI_learnings\\genai\\Lib\\site-packages\\tqdm\\auto.py:21: TqdmWarning: IProgress not found. Please update jupyter and ipywidgets. See https://ipywidgets.readthedocs.io/en/stable/user_install.html\n",
      "  from .autonotebook import tqdm as notebook_tqdm\n"
     ]
    }
   ],
   "source": [
    "from langchain_google_genai import ChatGoogleGenerativeAI\n",
    "from langgraph.graph import START,END,StateGraph\n",
    "from dotenv import load_dotenv\n",
    "from typing import TypedDict\n",
    "import os"
   ]
  },
  {
   "cell_type": "code",
   "execution_count": 3,
   "id": "22af9938",
   "metadata": {},
   "outputs": [],
   "source": [
    "# loading the model\n",
    "api_key=os.getenv('GOOGLE_API_KEY')\n",
    "model=ChatGoogleGenerativeAI(model='gemini-2.5-flash-lite-preview-09-2025',temperature=0.2,api_key=api_key)"
   ]
  },
  {
   "cell_type": "code",
   "execution_count": 4,
   "id": "51accc96",
   "metadata": {},
   "outputs": [],
   "source": [
    "class BlogState(TypedDict):\n",
    "    title:str\n",
    "    outline:str\n",
    "    blog:str"
   ]
  },
  {
   "cell_type": "code",
   "execution_count": 16,
   "id": "f224355d",
   "metadata": {},
   "outputs": [],
   "source": [
    "def generate_outline(state:BlogState)->BlogState:\n",
    "    topic=state['title']\n",
    "    prompt=f\"Generate a detailed outline for a blog post on the topic {topic}\"\n",
    "    result=model.invoke(prompt)\n",
    "    state['outline']=result.content\n",
    "    return state"
   ]
  },
  {
   "cell_type": "code",
   "execution_count": 17,
   "id": "89685f07",
   "metadata": {},
   "outputs": [],
   "source": [
    "def generate_blog(state:BlogState)->BlogState:\n",
    "    outline=state['outline']\n",
    "    topic=state['title']\n",
    "    prompt=f'Generate me a blog on the following {topic} using the following outline {outline}'\n",
    "    blog=model.invoke(prompt)\n",
    "    state['blog']=blog.content\n",
    "    return state"
   ]
  },
  {
   "cell_type": "code",
   "execution_count": 18,
   "metadata": {},
   "outputs": [
    {
     "data": {
      "image/png": "[encoded data removed]",
      "text/plain": [
       "<langgraph.graph.state.CompiledStateGraph object at 0x000001B8EB62E5A0>"
      ]
     },
     "execution_count": 18,
     "metadata": {},
     "output_type": "execute_result"
    }
   ],
   "source": [
    "# create a graph\n",
    "graph=StateGraph(BlogState)\n",
    "\n",
    "# add the nodes\n",
    "graph.add_node('generate_outline',generate_outline)\n",
    "graph.add_node('generate_blog',generate_blog)\n",
    "\n",
    "# add the edges\n",
    "graph.add_edge(START,'generate_outline')\n",
    "graph.add_edge('generate_outline','generate_blog')\n",
    "graph.add_edge('generate_blog',END)\n",
    "\n",
    "# complie the graph\n",
    "workflow=graph.compile()\n",
    "workflow"
   ]
  },
  {
   "cell_type": "code",
   "execution_count": 19,
   "metadata": {},
   "outputs": [],
   "source": [
    "initial_state={'title':'Impact of AI in the modern Economy.'}\n",
    "final_state=workflow.invoke(initial_state)"
   ]
  },
  {
   "cell_type": "code",
   "execution_count": 20,
   "id": "779eb8da",
   "metadata": {},
   "outputs": [
    {
     "data": {
      "text/plain": [
       "'# The AI Revolution: Reshaping the Landscape of the Modern Economy\\n\\n## I. Introduction (Setting the Stage)\\n\\nThe pace of technological change has never been faster. Just a few years ago, Artificial Intelligence (AI) was largely confined to research labs and niche applications. Today, breakthroughs like large language models (LLMs) such as GPT-4 are not just impressive feats of engineering; they are seismic events reshaping how value is created, distributed, and consumed globally.\\n\\nWhat we mean by **AI in the modern economy** has evolved far beyond simple factory automation. We are now witnessing AI systems capable of complex reasoning, creative generation, sophisticated data synthesis, and autonomous decision-making across finance, healthcare, and creative industries.\\n\\n**Our central argument is this:** AI is not merely an incremental improvement to existing systems; it represents a fundamental structural shift. This shift promises unprecedented productivity gains and the birth of entirely new industries, but it simultaneously creates profound challenges related to labor market stability and economic equity. This post will explore these dual forces—the engine of growth and the forces of disruption—that define the AI economy.\\n\\n---\\n\\n## II. The Engine of Growth: AI and Productivity Enhancement\\n\\nThe most immediate and measurable impact of AI is its ability to turbocharge efficiency across nearly every sector. AI acts as a universal productivity multiplier.\\n\\n### A. Operational Efficiency Gains\\n\\n1. **Automation of Routine Tasks:** AI excels at the mundane. Back-office functions—from processing invoices and managing customer service triage to basic compliance checks—are being rapidly automated. This frees human capital to focus on complex problem-solving and strategic thinking.\\n2. **Predictive Maintenance & Supply Chain Optimization:** In manufacturing and logistics, AI algorithms analyze sensor data to predict equipment failure *before* it happens, drastically reducing costly downtime. Similarly, AI optimizes global supply chains by dynamically rerouting shipments based on real-time geopolitical events, weather, and demand fluctuations, minimizing waste and maximizing throughput.\\n\\n### B. Data-Driven Decision Making\\n\\nAI moves businesses beyond simply understanding *what* happened (descriptive analytics) to prescribing *what should happen next*.\\n\\n1. **Enhanced Analytics:** Financial institutions use AI to model risk with far greater nuance, while marketing departments leverage prescriptive analytics to determine the optimal price point, channel, and timing for every single customer interaction.\\n2. **Personalization at Scale:** AI allows companies to treat millions of customers as individuals. This hyper-targeting increases sales conversion rates and customer lifetime value far beyond what manual segmentation could ever achieve.\\n\\n### C. Accelerating R&D and Innovation\\n\\nPerhaps the most exciting economic impact is AI’s role as a research partner.\\n\\n1. **Drug Discovery & Material Science:** AI can simulate millions of molecular interactions in days, a process that used to take human scientists years. This dramatically cuts the time and cost associated with bringing life-saving drugs or novel, sustainable materials to market.\\n2. **Software Development:** Tools like GitHub Copilot are transforming coding from a purely manual task into a collaborative effort between human developers and AI assistants, leading to faster development cycles and reduced bug rates.\\n\\n---\\n\\n## III. Transformation of the Labor Market: Disruption and Creation\\n\\nWhile productivity soars, the structure of work is undergoing a radical transformation, leading to both anxiety and opportunity.\\n\\n### A. Job Displacement and Automation Anxiety\\n\\nThe fear of job loss is real and targeted.\\n\\n1. **Vulnerable Sectors:** Roles heavily reliant on predictable data processing, standardized communication, or basic content generation—such as entry-level paralegals, telemarketers, and basic data entry clerks—are facing immediate pressure.\\n2. **The \"Hollowing Out\" Effect:** Economists worry that AI will exacerbate the existing trend where middle-skill, routine jobs disappear, leaving a polarized market dominated by high-skill, creative roles and low-skill, in-person service roles that are difficult to automate.\\n\\n### B. The Rise of New Roles and Skills\\n\\nEvery technological revolution destroys old jobs while creating entirely new categories of employment.\\n\\n1. **AI Infrastructure Roles:** We are seeing explosive demand for roles that build, maintain, and govern AI systems: **Prompt Engineers** who master communication with LLMs, **AI Ethicists** who ensure fairness, and **Data Curators** who prepare the massive datasets required for training.\\n2. **Augmented Labor:** For many professionals, AI will not replace them but will act as a powerful co-pilot. A radiologist augmented by AI diagnostic tools can review scans faster and more accurately; an architect using generative design software can explore thousands of structural possibilities instantly.\\n\\n### C. The Imperative for Reskilling and Education\\n\\nThe shelf life of specific job skills is shrinking. The modern economy demands **adaptability**. Governments and corporations must invest heavily in continuous learning programs that focus on uniquely human skills—critical thinking, emotional intelligence, complex negotiation—alongside technical literacy in AI tools.\\n\\n---\\n\\n## IV. Creation of New Economic Value and Industries\\n\\nAI is not just optimizing old industries; it is the foundation for entirely new ones.\\n\\n### A. The Generative Economy\\n\\nGenerative AI (creating text, images, code, and video) is spawning a new economic ecosystem.\\n\\n1. **Content Creation:** Media, advertising, and entertainment are being redefined by synthetic media. Companies can now generate personalized ad campaigns or localized video content instantly, leading to massive shifts in creative workflows and intellectual property debates.\\n2. **New Business Models:** The rise of **AI-as-a-Service (AIaaS)** means that specialized, proprietary models are becoming valuable assets, creating companies whose entire value proposition rests on their unique algorithms or data moats.\\n\\n### B. Democratization of Expertise\\n\\nAI tools are lowering the barrier to entry for complex tasks. Small businesses can now access sophisticated market analysis or legal document drafting capabilities that were once only affordable for large corporations. This can foster greater competition and innovation at the grassroots level.\\n\\n### C. Infrastructure Investment Boom\\n\\nThe computational demands of training and running advanced AI models are fueling a massive capital expenditure cycle in specialized hardware—particularly advanced semiconductors (GPUs)—and the construction of hyperscale data centers, creating a boom in the technology supply chain.\\n\\n---\\n\\n## V. Economic Challenges and Policy Considerations\\n\\nThe economic benefits of AI are immense, but they are not guaranteed to be distributed equitably without thoughtful governance.\\n\\n### A. Concentration of Wealth and Market Power\\n\\nAI development is incredibly capital-intensive. This favors incumbents—the handful of companies that possess the necessary data, talent, and computing power. This **\"winner-take-all\" dynamic** risks creating powerful, near-monopolistic entities whose control over foundational AI models could stifle competition and innovation elsewhere. Antitrust scrutiny will become increasingly focused on data access and model ownership.\\n\\n### B. Inequality and Wage Stagnation\\n\\nIf productivity gains flow primarily to capital owners (shareholders and technology owners) rather than labor (workers), existing wealth inequality will worsen. This fuels necessary policy discussions around how to share the economic surplus generated by automation, potentially through revised tax structures or new social safety nets.\\n\\n### C. Regulatory Lag and Ethical Economics\\n\\nTechnology moves faster than legislation. Regulators struggle to keep pace with issues like algorithmic bias—where flawed training data leads to discriminatory outcomes in lending, hiring, or criminal justice—which translates directly into economic harm for marginalized groups. Establishing clear, adaptable economic guardrails for AI is paramount.\\n\\n---\\n\\n## VI. Conclusion (Looking Ahead)\\n\\nArtificial Intelligence is undeniably the defining economic force of our era. It offers a path toward unprecedented productivity, scientific breakthroughs, and the creation of entirely new markets. However, this upside is inextricably linked to the challenge of managing massive labor market restructuring and preventing the concentration of economic power.\\n\\nThe final economic outcome is not predetermined by the technology itself; it will be shaped by the choices we make today. Investment in education, proactive policy development regarding market concentration, and a commitment to ethical deployment are essential.\\n\\nThe future economy won\\'t be run *by* AI, but by those who master how to work *with* it. **The time to engage with this transformation—as a business leader, a policymaker, or a worker—is now.**'"
      ]
     },
     "execution_count": 20,
     "metadata": {},
     "output_type": "execute_result"
    }
   ],
   "source": [
    "final_state['blog']"
   ]
  },
  {
   "cell_type": "code",
   "execution_count": 22,
   "id": "a28a6bfb",
   "metadata": {},
   "outputs": [
    {
     "data": {
      "text/plain": [
       "'## Blog Post Outline: The Transformative Impact of AI on the Modern Economy\\n\\n**Title Options (Choose One):**\\n\\n* **The AI Revolution: Reshaping the Landscape of the Modern Economy**\\n* **Beyond Automation: Understanding the Profound Impact of Artificial Intelligence on Global Economics**\\n* **From Efficiency to Disruption: Navigating the Economic Tides of Artificial Intelligence**\\n\\n---\\n\\n### I. Introduction (Setting the Stage)\\n\\n**A. Hook:** Start with a compelling statistic, a recent major AI breakthrough (e.g., GPT-4, advanced robotics), or a provocative statement about the speed of technological change.\\n\\n**B. Definition & Context:** Briefly define what \"AI in the modern economy\" means (moving beyond simple automation to complex decision-making, data analysis, and generative capabilities).\\n\\n**C. Thesis Statement:** Clearly state the blog\\'s main argument (e.g., \"AI is not just an incremental improvement but a fundamental structural shift, driving unprecedented productivity gains while simultaneously creating significant challenges in labor markets and economic equity.\")\\n\\n**D. Roadmap:** Briefly outline the key areas the post will cover (Productivity, Labor, New Industries, Challenges).\\n\\n---\\n\\n### II. The Engine of Growth: AI and Productivity Enhancement\\n\\n**A. Operational Efficiency Gains:**\\n    1. **Automation of Routine Tasks:** Focus on back-office functions, data entry, and standardized processes.\\n    2. **Predictive Maintenance & Supply Chain Optimization:** How AI reduces downtime and waste (e.g., logistics, manufacturing).\\n\\n**B. Data-Driven Decision Making:**\\n    1. **Enhanced Analytics:** Moving from descriptive to prescriptive analytics in finance, marketing, and operations.\\n    2. **Personalization at Scale:** AI\\'s role in hyper-targeting consumers, increasing sales conversion rates.\\n\\n**C. Accelerating R&D and Innovation:**\\n    1. **Drug Discovery & Material Science:** AI drastically cutting the time and cost of research.\\n    2. **Software Development:** Use of AI coding assistants (e.g., GitHub Copilot) to speed up development cycles.\\n\\n---\\n\\n### III. Transformation of the Labor Market: Disruption and Creation\\n\\n**A. Job Displacement and Automation Anxiety:**\\n    1. **Vulnerable Sectors:** Identifying roles most susceptible to near-term automation (e.g., customer service, basic legal research, data processing).\\n    2. **The \"Hollowing Out\" Effect:** Potential widening of the gap between high-skill and low-skill jobs.\\n\\n**B. The Rise of New Roles and Skills:**\\n    1. **AI Infrastructure Roles:** Prompt Engineers, AI Ethicists, Data Curators, Machine Learning Engineers.\\n    2. **Augmented Labor:** Jobs where AI acts as a co-pilot, increasing the output of existing professionals (e.g., doctors, architects).\\n\\n**C. The Imperative for Reskilling and Education:**\\n    1. The need for continuous learning and adaptability in the workforce.\\n    2. Government and corporate responsibility in workforce transition programs.\\n\\n---\\n\\n### IV. Creation of New Economic Value and Industries\\n\\n**A. The Generative Economy:**\\n    1. **Content Creation:** Impact on media, advertising, and entertainment industries (e.g., synthetic media, personalized content streams).\\n    2. **New Business Models:** Companies built entirely around proprietary AI models or AI-as-a-Service (AIaaS).\\n\\n**B. Democratization of Expertise:**\\n    1. **Access to Specialized Knowledge:** AI tools making complex analysis accessible to smaller businesses or individuals (e.g., affordable legal advice, financial planning).\\n\\n**C. Infrastructure Investment Boom:**\\n    1. The massive capital expenditure required for AI (semiconductors, data centers, specialized hardware like GPUs).\\n\\n---\\n\\n### V. Economic Challenges and Policy Considerations\\n\\n**A. Concentration of Wealth and Market Power:**\\n    1. **The \"Winner-Take-All\" Dynamic:** AI development often favors large tech incumbents with massive datasets and computing power.\\n    2. **Antitrust Concerns:** Regulating AI monopolies.\\n\\n**B. Inequality and Wage Stagnation:**\\n    1. How productivity gains are distributed (to capital owners vs. labor).\\n    2. The potential need for new social safety nets (e.g., discussions around Universal Basic Income/Services).\\n\\n**C. Regulatory Lag and Ethical Economics:**\\n    1. The challenge of regulating rapidly evolving technology.\\n    2. Economic risks associated with biased algorithms (e.g., discriminatory lending, hiring).\\n\\n---\\n\\n### VI. Conclusion (Looking Ahead)\\n\\n**A. Summary of Key Impacts:** Briefly reiterate the dual nature of AI\\'s impact: massive productivity upside coupled with significant labor market restructuring.\\n\\n**B. The Path Forward:** Emphasize that the final economic outcome is not predetermined; it depends on policy choices, investment in education, and ethical governance.\\n\\n**C. Final Thought/Call to Action:** Encourage readers (businesses, policymakers, workers) to proactively engage with AI rather than passively reacting to it. (e.g., \"The future economy won\\'t be run *by* AI, but by those who master how to work *with* it.\")\\n\\n---\\n\\n### VII. Supporting Elements\\n\\n* **Visuals:** Charts showing productivity growth vs. wage growth, diagrams illustrating AI integration in a supply chain.\\n* **Internal Links:** Link to previous posts on automation, data privacy, or specific industry deep dives.\\n* **SEO Keywords:** AI in economy, productivity gains, labor market disruption, generative AI impact, economic transformation.'"
      ]
     },
     "execution_count": 22,
     "metadata": {},
     "output_type": "execute_result"
    }
   ],
   "source": [
    "final_state['outline']"
   ]
  },
  {
   "cell_type": "code",
   "execution_count": null,
   "id": "dd32ec3e",
   "metadata": {},
   "outputs": [],
   "source": []
  },
  {
   "cell_type": "code",
   "execution_count": null,
   "metadata": {},
   "outputs": [],
   "source": []
  },
  {
   "cell_type": "code",
   "execution_count": null,
   "metadata": {},
   "outputs": [],
   "source": []
  },
  {
   "cell_type": "code",
   "execution_count": null,
   "id": "44040627",
   "metadata": {},
   "outputs": [],
   "source": []
  }
 ],
 "metadata": {
  "kernelspec": {
   "display_name": "genai (3.12.7)",
   "language": "python",
   "name": "python3"
  },
  "language_info": {
   "codemirror_mode": {
    "name": "ipython",
    "version": 3
   },
   "file_extension": ".py",
   "mimetype": "text/x-python",
   "name": "python",
   "nbconvert_exporter": "python",
   "pygments_lexer": "ipython3",
   "version": "3.12.7"
  }
 },
 "nbformat": 4,
 "nbformat_minor": 5
}
