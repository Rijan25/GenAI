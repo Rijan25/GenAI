{
 "cells": [
  {
   "cell_type": "code",
   "execution_count": 58,
   "id": "cacea428",
   "metadata": {},
   "outputs": [],
   "source": [
    "from langgraph.graph import StateGraph,START,END\n",
    "from typing import TypedDict"
   ]
  },
  {
   "cell_type": "code",
   "execution_count": 59,
   "id": "70741132",
   "metadata": {},
   "outputs": [],
   "source": [
    "class BatsmanState(TypedDict):\n",
    "\n",
    "    runs:int\n",
    "    balls:int\n",
    "    fours:int\n",
    "    sixes:int\n",
    "\n",
    "    sr:float\n",
    "    bpb:float\n",
    "    boundary_percent:float\n",
    "    summary:str"
   ]
  },
  {
   "cell_type": "code",
   "execution_count": 60,
   "id": "06406ee6",
   "metadata": {},
   "outputs": [],
   "source": [
    "def calculate_sr(state:BatsmanState)->BatsmanState:\n",
    "    runs=state['runs']\n",
    "    balls=state['balls']\n",
    "    sr=(runs/balls)*100\n",
    "    state['sr']=sr\n",
    "    return {'sr':sr}"
   ]
  },
  {
   "cell_type": "code",
   "execution_count": 61,
   "id": "21cd4408",
   "metadata": {},
   "outputs": [],
   "source": [
    "def calculate_bpb(state:BatsmanState)->BatsmanState:\n",
    "    balls=state['balls']\n",
    "    fours=state['fours']\n",
    "    sixes=state['sixes']\n",
    "    bpb=(balls/(fours+sixes))\n",
    "    state['bpb']=bpb\n",
    "    return {'bpb':bpb}"
   ]
  },
  {
   "cell_type": "code",
   "execution_count": 62,
   "id": "988607f3",
   "metadata": {},
   "outputs": [],
   "source": [
    "def boundary_percent(state:BatsmanState)->BatsmanState:\n",
    "    sixes=state['sixes']\n",
    "    fours=state['fours']\n",
    "    runs=state['runs']\n",
    "    bp=(((fours*4)+(sixes*6))/(runs))*100\n",
    "    state['bp']=bp\n",
    "    return {'boundary_percent':bp}"
   ]
  },
  {
   "cell_type": "code",
   "execution_count": 63,
   "id": "0c662f86",
   "metadata": {},
   "outputs": [],
   "source": [
    "def summary(state:BatsmanState)->BatsmanState:\n",
    "    summary=f\"\"\"\n",
    "\n",
    "Strike Rate : {state['sr']}\\n\n",
    "Boundary Percentage: {state['boundary_percent']}\\n\n",
    "Balls Per Boundary :{state['bpb']}/n\n",
    "\n",
    "\"\"\"\n",
    "    state['summary']=summary\n",
    "    return {'summary':summary}\n",
    "    "
   ]
  },
  {
   "cell_type": "code",
   "execution_count": 64,
   "id": "d6c82d27",
   "metadata": {},
   "outputs": [
    {
     "data": {
      "image/png": "[encoded data removed]",
      "text/plain": [
       "<langgraph.graph.state.CompiledStateGraph object at 0x0000022573E6C500>"
      ]
     },
     "execution_count": 64,
     "metadata": {},
     "output_type": "execute_result"
    }
   ],
   "source": [
    "# make the graph\n",
    "graph=StateGraph(BatsmanState)\n",
    "\n",
    "# add the nodes\n",
    "graph.add_node('calculate_sr',calculate_sr)\n",
    "graph.add_node('calculate_bpb',calculate_bpb)\n",
    "graph.add_node('boundary_percent',boundary_percent)\n",
    "graph.add_node('summary',summary)\n",
    "\n",
    "# add the edges\n",
    "graph.add_edge(START,'calculate_sr')\n",
    "graph.add_edge(START,'calculate_bpb')\n",
    "graph.add_edge(START,'boundary_percent')\n",
    "\n",
    "graph.add_edge('calculate_sr','summary')\n",
    "graph.add_edge('calculate_bpb','summary')\n",
    "graph.add_edge('boundary_percent','summary')\n",
    "\n",
    "graph.add_edge('summary',END)\n",
    "\n",
    "\n",
    "# compile the graph\n",
    "workflow=graph.compile()\n",
    "workflow"
   ]
  },
  {
   "cell_type": "code",
   "execution_count": 65,
   "id": "ae9df1b7",
   "metadata": {},
   "outputs": [
    {
     "data": {
      "text/plain": [
       "{'runs': 100,\n",
       " 'balls': 21,\n",
       " 'fours': 4,\n",
       " 'sixes': 4,\n",
       " 'sr': 476.1904761904762,\n",
       " 'bpb': 2.625,\n",
       " 'boundary_percent': 40.0,\n",
       " 'summary': '\\n\\nStrike Rate : 476.1904761904762\\n\\nBoundary Percentage: 40.0\\n\\nBalls Per Boundary :2.625/n\\n\\n'}"
      ]
     },
     "execution_count": 65,
     "metadata": {},
     "output_type": "execute_result"
    }
   ],
   "source": [
    "# execute the graph\n",
    "initial_state={\n",
    "    'runs':100,\n",
    "    'balls':21,\n",
    "    'fours':4,\n",
    "    'sixes':4\n",
    "}\n",
    "\n",
    "final_state=workflow.invoke(initial_state)\n",
    "final_state"
   ]
  },
  {
   "cell_type": "code",
   "execution_count": null,
   "id": "92b39a23",
   "metadata": {},
   "outputs": [],
   "source": []
  },
  {
   "cell_type": "code",
   "execution_count": null,
   "id": "781adb7f",
   "metadata": {},
   "outputs": [],
   "source": []
  },
  {
   "cell_type": "code",
   "execution_count": null,
   "id": "5cc1c4d1",
   "metadata": {},
   "outputs": [],
   "source": []
  },
  {
   "cell_type": "code",
   "execution_count": null,
   "id": "36ffcf2f",
   "metadata": {},
   "outputs": [],
   "source": []
  },
  {
   "cell_type": "code",
   "execution_count": null,
   "id": "009aaebb",
   "metadata": {},
   "outputs": [],
   "source": []
  },
  {
   "cell_type": "code",
   "execution_count": null,
   "id": "682387a0",
   "metadata": {},
   "outputs": [],
   "source": []
  },
  {
   "cell_type": "code",
   "execution_count": null,
   "id": "d4faad77",
   "metadata": {},
   "outputs": [],
   "source": []
  }
 ],
 "metadata": {
  "kernelspec": {
   "display_name": "genai (3.12.7)",
   "language": "python",
   "name": "python3"
  },
  "language_info": {
   "codemirror_mode": {
    "name": "ipython",
    "version": 3
   },
   "file_extension": ".py",
   "mimetype": "text/x-python",
   "name": "python",
   "nbconvert_exporter": "python",
   "pygments_lexer": "ipython3",
   "version": "3.12.7"
  }
 },
 "nbformat": 4,
 "nbformat_minor": 5
}
