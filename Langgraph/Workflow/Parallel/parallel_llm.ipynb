{
 "cells": [
  {
   "cell_type": "code",
   "execution_count": 110,
   "id": "a49a1f1d",
   "metadata": {},
   "outputs": [
    {
     "data": {
      "text/plain": [
       "True"
      ]
     },
     "execution_count": 110,
     "metadata": {},
     "output_type": "execute_result"
    }
   ],
   "source": [
    "from langchain_google_genai import ChatGoogleGenerativeAI\n",
    "from langgraph.graph import START,END,StateGraph\n",
    "from pydantic import BaseModel,Field\n",
    "from dotenv import load_dotenv\n",
    "from typing import TypedDict,Annotated\n",
    "import operator\n",
    "import os\n",
    "load_dotenv()"
   ]
  },
  {
   "cell_type": "code",
   "execution_count": 111,
   "id": "6804d6e2",
   "metadata": {},
   "outputs": [],
   "source": [
    "# loading the model\n",
    "api_key=os.getenv('GOOGLE_API_KEY')\n",
    "model=ChatGoogleGenerativeAI(model='gemini-2.5-flash-lite-preview-09-2025',temperature=0.2,api_key=api_key)"
   ]
  },
  {
   "cell_type": "code",
   "execution_count": 112,
   "id": "60d12319",
   "metadata": {},
   "outputs": [],
   "source": [
    "# For Structured Output\n",
    "class EvaluationSchema(BaseModel):\n",
    "    rate:float=Field(le=5.0,ge=1.0,description='Individual rating of the essay.')\n",
    "    feedback:str=Field(description='Detailed feedback of the essay')"
   ]
  },
  {
   "cell_type": "code",
   "execution_count": 113,
   "id": "069ea543",
   "metadata": {},
   "outputs": [],
   "source": [
    "# Structured Model \n",
    "structured_model=model.with_structured_output(EvaluationSchema)"
   ]
  },
  {
   "cell_type": "code",
   "execution_count": 114,
   "id": "82914e59",
   "metadata": {},
   "outputs": [],
   "source": [
    "response=structured_model.invoke(\"\"\"\n",
    "Democracy is a system built on the belief that power should belong to the people rather than a single ruler or elite group. At its heart lies the idea of participation—citizens have the right to choose their leaders, question authority, and influence the decisions that shape their lives. It thrives on dialogue, accountability, and the constant negotiation between freedom and responsibility.\n",
    "\n",
    "However, democracy is not a static structure; it’s a living process. It demands informed citizens, active debate, and respect for differing opinions. When people become apathetic or when misinformation spreads unchecked, democracy weakens, tilting toward populism or authoritarianism. Its strength depends less on the laws written in constitutions and more on the habits of its citizens—their willingness to listen, compromise, and hold truth above convenience.\n",
    "\n",
    "In the modern world, democracy faces new tests: digital manipulation, economic inequality, and the growing divide between global and local interests. Yet its resilience endures because it adapts. The promise of democracy is not perfection but progress—the collective pursuit of justice, equality, and dignity for all.\n",
    "\"\"\")"
   ]
  },
  {
   "cell_type": "code",
   "execution_count": 115,
   "id": "1508e8a2",
   "metadata": {},
   "outputs": [
    {
     "data": {
      "text/plain": [
       "EvaluationSchema(rate=4.5, feedback='The essay provides a concise and well-structured overview of democracy. It effectively captures the core principles (participation, accountability) and acknowledges its dynamic nature, highlighting the necessary role of informed citizens. The conclusion neatly summarizes the ongoing challenges and the enduring promise of democracy. The language is clear and persuasive.')"
      ]
     },
     "execution_count": 115,
     "metadata": {},
     "output_type": "execute_result"
    }
   ],
   "source": [
    "response"
   ]
  },
  {
   "cell_type": "code",
   "execution_count": 116,
   "id": "559c18f4",
   "metadata": {},
   "outputs": [],
   "source": [
    "class EssayState(TypedDict):\n",
    "\n",
    "    essay:str\n",
    "    language_feedback:str\n",
    "    analysis_feedback:str\n",
    "    clarity_feedback:str\n",
    "    overall_feedback:str\n",
    "    individual_scores:Annotated[list[int],operator.add]\n",
    "    avg_score:float\n"
   ]
  },
  {
   "cell_type": "code",
   "execution_count": 117,
   "id": "628e8bc5",
   "metadata": {},
   "outputs": [],
   "source": [
    "def evaluate_language(state:EssayState):\n",
    "    essay=state['essay']\n",
    "    prompt=f'Evaluate the language quality of the following essay and provide the feedback provide a score upto 5.\\n{essay}'\n",
    "    output=structured_model.invoke(prompt)\n",
    "    return {'language_feedback':output.feedback,'individual_scores':[output.rate]}"
   ]
  },
  {
   "cell_type": "code",
   "execution_count": 118,
   "id": "08e5b359",
   "metadata": {},
   "outputs": [],
   "source": [
    "def clarity_feedback(state:EssayState):\n",
    "    essay=state['essay']\n",
    "    prompt=f'Evaluate the clarity feedback of the following essay and provide the feedback provide a score upto 5.\\n{essay}'\n",
    "    output=structured_model.invoke(prompt)\n",
    "    return {'clarity_feedback':output.feedback,'individual_scores':[output.rate]}"
   ]
  },
  {
   "cell_type": "code",
   "execution_count": 119,
   "id": "d6f14f33",
   "metadata": {},
   "outputs": [],
   "source": [
    "def analysis_feedback(state:EssayState):\n",
    "    essay=state['essay']\n",
    "    prompt=f'Evaluate the depth analysis of the following essay and provide the feedback provide a score upto 5.\\n{essay}'\n",
    "    output=structured_model.invoke(prompt)\n",
    "    return {'analysis_feedback':output.feedback,'individual_scores':[output.rate]}"
   ]
  },
  {
   "cell_type": "code",
   "execution_count": 126,
   "id": "f340a981",
   "metadata": {},
   "outputs": [],
   "source": [
    "def final_evaluation(state:EssayState):\n",
    "    language_feedback=state['language_feedback']\n",
    "    clarity_feedback=state['clarity_feedback']\n",
    "    analysis_feedback=state['analysis_feedback']\n",
    "\n",
    "    prompt=f'Give me the summarized feedback of the model using the given language feedback {language_feedback}\\n , clarity_feedback {clarity_feedback}\\n and the in depth analysis feedback {analysis_feedback}.'\n",
    "    response=structured_model.invoke(prompt)\n",
    "    avg_score=sum(state['individual_scores'])/len(state['individual_scores'])\n",
    "    return {'overall_feedback':response.feedback,'avg_score':avg_score}"
   ]
  },
  {
   "cell_type": "code",
   "execution_count": 127,
   "id": "f772a97c",
   "metadata": {},
   "outputs": [
    {
     "data": {
      "image/png": "[encoded data removed]",
      "text/plain": [
       "<langgraph.graph.state.CompiledStateGraph object at 0x0000020EC3FBA5D0>"
      ]
     },
     "execution_count": 127,
     "metadata": {},
     "output_type": "execute_result"
    }
   ],
   "source": [
    "# make the graph\n",
    "\n",
    "graph=StateGraph(EssayState)\n",
    "\n",
    "# make the nodes\n",
    "graph.add_node('evaluate_language',evaluate_language)\n",
    "graph.add_node('clarity_feedback',clarity_feedback)\n",
    "graph.add_node('analysis_feedback',analysis_feedback)\n",
    "graph.add_node('final_evaluation',final_evaluation)\n",
    "\n",
    "\n",
    "# make the edges\n",
    "graph.add_edge(START,'evaluate_language')\n",
    "graph.add_edge(START,'clarity_feedback')\n",
    "graph.add_edge(START,'analysis_feedback')\n",
    "\n",
    "graph.add_edge('evaluate_language','final_evaluation')\n",
    "graph.add_edge('clarity_feedback','final_evaluation')\n",
    "graph.add_edge('analysis_feedback','final_evaluation')\n",
    "\n",
    "graph.add_edge('final_evaluation',END)\n",
    "\n",
    "# compile the workflow\n",
    "workflow=graph.compile()\n",
    "workflow\n"
   ]
  },
  {
   "cell_type": "code",
   "execution_count": 128,
   "id": "df428b6d",
   "metadata": {},
   "outputs": [
    {
     "data": {
      "text/plain": [
       "{'essay': ' \\nDemocracy is a system built on the belief that power should belong to the people rather than a single ruler or elite group. At its heart lies the idea of participation—citizens have the right to choose their leaders, question authority, and influence the decisions that shape their lives. It thrives on dialogue, accountability, and the constant negotiation between freedom and responsibility.\\n\\nHowever, democracy is not a static structure; it’s a living process. It demands informed citizens, active debate, and respect for differing opinions. When people become apathetic or when misinformation spreads unchecked, democracy weakens, tilting toward populism or authoritarianism. Its strength depends less on the laws written in constitutions and more on the habits of its citizens—their willingness to listen, compromise, and hold truth above convenience.\\n\\nIn the modern world, democracy faces new tests: digital manipulation, economic inequality, and the growing divide between global and local interests. Yet its resilience endures because it adapts. The promise of democracy is not perfection but progress—the collective pursuit of justice, equality, and dignity for all.\\n',\n",
       " 'language_feedback': 'The essay is well-structured, clear, and uses sophisticated vocabulary effectively (\"static structure,\" \"unchecked,\" \"populism,\" \"resilience\"). The flow between paragraphs is logical, moving from definition to challenges and concluding with a forward-looking statement. The language is precise and engaging, making a strong case for the importance of active citizenship in sustaining democracy. There are no significant grammatical errors.',\n",
       " 'analysis_feedback': 'The essay provides a concise and accurate overview of the core tenets of democracy, highlighting participation, accountability, and the dynamic nature of the system. The analysis touches upon the necessary conditions for democracy to thrive (informed citizens, active debate) and the threats it faces (apathy, misinformation, modern challenges like digital manipulation).\\n\\n**Strengths:**\\n*   **Clarity and Conciseness:** The writing is clear, well-structured, and flows logically from definition to challenges to enduring promise.\\n*   **Identification of Key Elements:** It correctly identifies participation, dialogue, and accountability as central.\\n*   **Nuance:** The essay avoids presenting democracy as a perfect system, noting it is a \"living process\" that requires constant effort and adaptation.\\n\\n**Areas for Deeper Analysis (Limiting Depth Score):**\\n*   **Lack of Specific Examples:** The analysis remains largely abstract. To achieve a higher score, the essay could benefit from brief, specific examples illustrating the threats (e.g., mentioning a specific instance of digital manipulation or how economic inequality undermines participation).\\n*   **Superficial Treatment of Solutions/Adaptation:** While it mentions resilience and adaptation, it doesn\\'t explore *how* democracy adapts to digital manipulation or inequality in depth. For instance, what specific institutional or civic adaptations are required?\\n*   **Limited Exploration of Trade-offs:** The essay mentions the negotiation between \"freedom and responsibility\" but doesn\\'t delve into the inherent tension or trade-offs within democratic governance (e.g., efficiency vs. deliberation).\\n\\nOverall, it is a strong introductory analysis, but it remains at a descriptive and conceptual level rather than a deeply analytical one.',\n",
       " 'clarity_feedback': 'The essay is very clear and well-structured. The definition of democracy is concise, and the progression from its core principles to the challenges it faces is logical. The language is accessible yet sophisticated, making the complex topic easy to follow. The use of metaphors like \"living process\" is effective. The conclusion neatly summarizes the enduring promise of democracy.',\n",
       " 'overall_feedback': 'The essay is exceptionally well-written, demonstrating strong structure, sophisticated vocabulary, and excellent clarity. It effectively defines democracy as a \"living process\" and logically moves through its core principles, challenges, and enduring promise. The analysis accurately identifies key elements like participation and accountability and touches upon modern threats such as digital manipulation.\\n\\n**Key Strengths:** Clarity, structure, precise language, and accurate conceptual overview.\\n\\n**Area for Improvement (Limiting Depth):** The analysis remains largely abstract. To achieve a deeper analytical score, the essay would benefit from incorporating specific, brief examples to illustrate the threats mentioned (e.g., digital manipulation) and exploring the *mechanisms* of adaptation or the inherent trade-offs within democratic governance in more detail. It is a strong descriptive analysis but stops short of deep, evidence-based argumentation.',\n",
       " 'individual_scores': [3.5, 5.0, 5.0],\n",
       " 'avg_score': 4.5}"
      ]
     },
     "execution_count": 128,
     "metadata": {},
     "output_type": "execute_result"
    }
   ],
   "source": [
    "# Initial State\n",
    "initial_state={\n",
    "    'essay':''' \n",
    "Democracy is a system built on the belief that power should belong to the people rather than a single ruler or elite group. At its heart lies the idea of participation—citizens have the right to choose their leaders, question authority, and influence the decisions that shape their lives. It thrives on dialogue, accountability, and the constant negotiation between freedom and responsibility.\n",
    "\n",
    "However, democracy is not a static structure; it’s a living process. It demands informed citizens, active debate, and respect for differing opinions. When people become apathetic or when misinformation spreads unchecked, democracy weakens, tilting toward populism or authoritarianism. Its strength depends less on the laws written in constitutions and more on the habits of its citizens—their willingness to listen, compromise, and hold truth above convenience.\n",
    "\n",
    "In the modern world, democracy faces new tests: digital manipulation, economic inequality, and the growing divide between global and local interests. Yet its resilience endures because it adapts. The promise of democracy is not perfection but progress—the collective pursuit of justice, equality, and dignity for all.\n",
    "'''\n",
    "}\n",
    "\n",
    "# Executing the graph\n",
    "output_state=workflow.invoke(initial_state)\n",
    "output_state"
   ]
  },
  {
   "cell_type": "code",
   "execution_count": 130,
   "id": "78f8d84b",
   "metadata": {},
   "outputs": [
    {
     "data": {
      "text/plain": [
       "'The essay is exceptionally well-written, demonstrating strong structure, sophisticated vocabulary, and excellent clarity. It effectively defines democracy as a \"living process\" and logically moves through its core principles, challenges, and enduring promise. The analysis accurately identifies key elements like participation and accountability and touches upon modern threats such as digital manipulation.\\n\\n**Key Strengths:** Clarity, structure, precise language, and accurate conceptual overview.\\n\\n**Area for Improvement (Limiting Depth):** The analysis remains largely abstract. To achieve a deeper analytical score, the essay would benefit from incorporating specific, brief examples to illustrate the threats mentioned (e.g., digital manipulation) and exploring the *mechanisms* of adaptation or the inherent trade-offs within democratic governance in more detail. It is a strong descriptive analysis but stops short of deep, evidence-based argumentation.'"
      ]
     },
     "execution_count": 130,
     "metadata": {},
     "output_type": "execute_result"
    }
   ],
   "source": [
    "output_state['overall_feedback']"
   ]
  },
  {
   "cell_type": "code",
   "execution_count": null,
   "id": "bcdd3084",
   "metadata": {},
   "outputs": [],
   "source": []
  },
  {
   "cell_type": "code",
   "execution_count": null,
   "id": "f7da8ced",
   "metadata": {},
   "outputs": [],
   "source": []
  },
  {
   "cell_type": "code",
   "execution_count": null,
   "id": "f5172707",
   "metadata": {},
   "outputs": [],
   "source": []
  },
  {
   "cell_type": "code",
   "execution_count": null,
   "id": "66bfdd05",
   "metadata": {},
   "outputs": [],
   "source": []
  }
 ],
 "metadata": {
  "kernelspec": {
   "display_name": "genai (3.12.7)",
   "language": "python",
   "name": "python3"
  },
  "language_info": {
   "codemirror_mode": {
    "name": "ipython",
    "version": 3
   },
   "file_extension": ".py",
   "mimetype": "text/x-python",
   "name": "python",
   "nbconvert_exporter": "python",
   "pygments_lexer": "ipython3",
   "version": "3.12.7"
  }
 },
 "nbformat": 4,
 "nbformat_minor": 5
}
