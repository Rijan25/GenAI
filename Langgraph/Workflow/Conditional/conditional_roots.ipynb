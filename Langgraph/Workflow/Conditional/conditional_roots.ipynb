{
 "cells": [
  {
   "cell_type": "code",
   "execution_count": 47,
   "id": "9921edc7",
   "metadata": {},
   "outputs": [],
   "source": [
    "from langgraph.graph import StateGraph,START,END\n",
    "from typing import TypedDict,Literal"
   ]
  },
  {
   "cell_type": "code",
   "execution_count": 48,
   "id": "1882e26a",
   "metadata": {},
   "outputs": [],
   "source": [
    "class QuadState(TypedDict):\n",
    "    a:float\n",
    "    b:float\n",
    "    c:float\n",
    "\n",
    "    discriminant:float\n",
    "    equation:str\n",
    "    result:str"
   ]
  },
  {
   "cell_type": "code",
   "execution_count": 65,
   "id": "14509e36",
   "metadata": {},
   "outputs": [],
   "source": [
    "def check_discriminant(state:QuadState)->Literal['equal_root','real_root','complex_root']:\n",
    "    d=state['discriminant']\n",
    "    if d>0:\n",
    "        return 'real_root'\n",
    "    elif d<0:\n",
    "        return 'complex_root'\n",
    "    else:\n",
    "        return 'equal_root'"
   ]
  },
  {
   "cell_type": "code",
   "execution_count": 49,
   "id": "ff558ab3",
   "metadata": {},
   "outputs": [],
   "source": [
    "def calculate_discriminant(state:QuadState):\n",
    "    a=state['a']\n",
    "    b=state['b']\n",
    "    c=state['c']\n",
    "\n",
    "    d=(b)**2-4*a*c\n",
    "    return {'discriminant':d}"
   ]
  },
  {
   "cell_type": "code",
   "execution_count": null,
   "id": "43aeb3d6",
   "metadata": {},
   "outputs": [],
   "source": [
    "def equal_root(state:QuadState):\n",
    "    a=state['a']\n",
    "    b=state['b']\n",
    "    c=state['c']\n",
    "\n",
    "    result=(-b)/2*a\n",
    "    return {'result':f'The roots are equal and they are : {result} and {result}'}"
   ]
  },
  {
   "cell_type": "code",
   "execution_count": null,
   "id": "f1d74f3c",
   "metadata": {},
   "outputs": [],
   "source": [
    "def real_root(state:QuadState):\n",
    "    a=state['a']\n",
    "    b=state['b']\n",
    "    c=state['c']\n",
    "    d=state['discriminant']\n",
    "\n",
    "    result1=(-b+(d)**0.5)/2*a\n",
    "    result2=(-b-(d)**0.5)/2*a\n",
    "\n",
    "    return {'result':f'The roots are {result1} and {result2}'}"
   ]
  },
  {
   "cell_type": "code",
   "execution_count": 63,
   "id": "fe3376d8",
   "metadata": {},
   "outputs": [],
   "source": [
    "def complex_root(state:QuadState):\n",
    "    result=f'The real roots doesnot exists.'\n",
    "    return {'result':result}"
   ]
  },
  {
   "cell_type": "code",
   "execution_count": 53,
   "id": "4a76fd22",
   "metadata": {},
   "outputs": [],
   "source": [
    "def show_equation(state:QuadState):\n",
    "    eqn=f\"{state['a']}x*2{state['b']}x{state['c']}\"\n",
    "    return {'equation':eqn}"
   ]
  },
  {
   "cell_type": "code",
   "execution_count": 66,
   "id": "298973d3",
   "metadata": {},
   "outputs": [
    {
     "data": {
      "image/png": "[encoded data removed]",
      "text/plain": [
       "<langgraph.graph.state.CompiledStateGraph object at 0x0000027C09F06000>"
      ]
     },
     "execution_count": 66,
     "metadata": {},
     "output_type": "execute_result"
    }
   ],
   "source": [
    "# make the graph\n",
    "graph=StateGraph(QuadState)\n",
    "\n",
    "# make the nodes\n",
    "graph.add_node('calculate_discriminant',calculate_discriminant)\n",
    "graph.add_node('complex_root',complex_root)\n",
    "graph.add_node('equal_root',equal_root)\n",
    "graph.add_node('real_root',real_root)\n",
    "graph.add_node('show_equation',show_equation)\n",
    "\n",
    "\n",
    "\n",
    "# make the edges\n",
    "graph.add_edge(START,'show_equation')\n",
    "graph.add_edge('show_equation','calculate_discriminant')\n",
    "\n",
    "graph.add_conditional_edges('calculate_discriminant',check_discriminant)\n",
    "graph.add_edge('real_root',END)\n",
    "graph.add_edge('complex_root',END)\n",
    "graph.add_edge('equal_root',END)\n",
    "\n",
    "# make the workflow\n",
    "workflow=graph.compile()\n",
    "workflow"
   ]
  },
  {
   "cell_type": "code",
   "execution_count": 67,
   "id": "cfcfec90",
   "metadata": {},
   "outputs": [],
   "source": [
    "initial_state={\n",
    "    'a':4,\n",
    "    'b':-5,\n",
    "    'c':-4\n",
    "}"
   ]
  },
  {
   "cell_type": "code",
   "execution_count": 68,
   "id": "63ba42e8",
   "metadata": {},
   "outputs": [
    {
     "data": {
      "text/plain": [
       "{'a': 4,\n",
       " 'b': -5,\n",
       " 'c': -4,\n",
       " 'discriminant': 89,\n",
       " 'equation': '4x*2-5x-4',\n",
       " 'result': 'The roots are 28.867962264113206 and -8.867962264113206'}"
      ]
     },
     "execution_count": 68,
     "metadata": {},
     "output_type": "execute_result"
    }
   ],
   "source": [
    "# Execute the graph\n",
    "output_state=workflow.invoke(initial_state)\n",
    "output_state"
   ]
  },
  {
   "cell_type": "code",
   "execution_count": null,
   "id": "7a70af02",
   "metadata": {},
   "outputs": [],
   "source": []
  },
  {
   "cell_type": "code",
   "execution_count": null,
   "id": "d8f8c073",
   "metadata": {},
   "outputs": [],
   "source": []
  },
  {
   "cell_type": "code",
   "execution_count": null,
   "id": "863f954b",
   "metadata": {},
   "outputs": [],
   "source": []
  },
  {
   "cell_type": "code",
   "execution_count": null,
   "id": "b2b570cd",
   "metadata": {},
   "outputs": [],
   "source": []
  },
  {
   "cell_type": "code",
   "execution_count": null,
   "id": "6779646a",
   "metadata": {},
   "outputs": [],
   "source": []
  },
  {
   "cell_type": "code",
   "execution_count": null,
   "metadata": {},
   "outputs": [],
   "source": []
  },
  {
   "cell_type": "code",
   "execution_count": null,
   "id": "674f960a",
   "metadata": {},
   "outputs": [],
   "source": []
  },
  {
   "cell_type": "code",
   "execution_count": null,
   "metadata": {},
   "outputs": [],
   "source": []
  },
  {
   "cell_type": "code",
   "execution_count": null,
   "id": "ce83f945",
   "metadata": {},
   "outputs": [],
   "source": []
  },
  {
   "cell_type": "code",
   "execution_count": null,
   "id": "f00c40ed",
   "metadata": {},
   "outputs": [],
   "source": []
  }
 ],
 "metadata": {
  "kernelspec": {
   "display_name": "genai (3.12.7)",
   "language": "python",
   "name": "python3"
  },
  "language_info": {
   "codemirror_mode": {
    "name": "ipython",
    "version": 3
   },
   "file_extension": ".py",
   "mimetype": "text/x-python",
   "name": "python",
   "nbconvert_exporter": "python",
   "pygments_lexer": "ipython3",
   "version": "3.12.7"
  }
 },
 "nbformat": 4,
 "nbformat_minor": 5
}
