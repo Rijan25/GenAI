{
 "cells": [
  {
   "cell_type": "code",
   "execution_count": 95,
   "id": "89cc7492",
   "metadata": {},
   "outputs": [
    {
     "data": {
      "text/plain": [
       "True"
      ]
     },
     "execution_count": 95,
     "metadata": {},
     "output_type": "execute_result"
    }
   ],
   "source": [
    "from langchain_google_genai import ChatGoogleGenerativeAI\n",
    "from langgraph.graph import START,END,StateGraph\n",
    "from pydantic import BaseModel,Field\n",
    "from dotenv import load_dotenv\n",
    "from typing import TypedDict,Literal\n",
    "import os\n",
    "load_dotenv()"
   ]
  },
  {
   "cell_type": "code",
   "execution_count": 96,
   "id": "d75d17ba",
   "metadata": {},
   "outputs": [],
   "source": [
    "# loading the model\n",
    "api_key=os.getenv('GOOGLE_API_KEY')\n",
    "model=ChatGoogleGenerativeAI(model='gemini-2.5-flash-lite-preview-09-2025',temperature=0.2,api_key=api_key)"
   ]
  },
  {
   "cell_type": "code",
   "execution_count": 97,
   "id": "690f6548",
   "metadata": {},
   "outputs": [],
   "source": [
    "class SentimentSchema(BaseModel):\n",
    "    sentiment:Literal['positive','negative']=Field(description='Sentiment of the review') "
   ]
  },
  {
   "cell_type": "code",
   "execution_count": 98,
   "id": "ecf3e411",
   "metadata": {},
   "outputs": [],
   "source": [
    "structured_model=model.with_structured_output(SentimentSchema)"
   ]
  },
  {
   "cell_type": "code",
   "execution_count": 99,
   "id": "ebb3183f",
   "metadata": {},
   "outputs": [],
   "source": [
    "class diagnosisSchema(BaseModel):\n",
    "    issue_type:Literal['UI','Features','Payment Mode','Network Issue']\n",
    "    tone:Literal['calm','frustrated','angry','casual']\n",
    "    urgency:Literal['normal','urgent','calm','few-days']"
   ]
  },
  {
   "cell_type": "code",
   "execution_count": 100,
   "id": "5dfcec77",
   "metadata": {},
   "outputs": [],
   "source": [
    "diagnosis_model=model.with_structured_output(diagnosisSchema)"
   ]
  },
  {
   "cell_type": "code",
   "execution_count": 101,
   "id": "3d077118",
   "metadata": {},
   "outputs": [],
   "source": [
    "class ReviewState(TypedDict):\n",
    "    review:str\n",
    "    sentiment:Literal['positive','negative']\n",
    "    diagnosis:dict\n",
    "    response:str"
   ]
  },
  {
   "cell_type": "code",
   "execution_count": 102,
   "id": "d17bffa7",
   "metadata": {},
   "outputs": [],
   "source": [
    "def find_sentiment(state:ReviewState):\n",
    "    prompt=f'For the following review find out the sentiment of the following review\\n {state['review']}'\n",
    "    sentiment=structured_model.invoke(prompt).sentiment\n",
    "    return {'sentiment':sentiment}\n",
    "\n",
    "def check_sentiment(state:ReviewState)->Literal['positive_response','run_diagnosis']:\n",
    "    if state['sentiment']=='positive':\n",
    "        return 'positive_response'\n",
    "    else:\n",
    "        return 'run_diagnosis'\n"
   ]
  },
  {
   "cell_type": "code",
   "execution_count": 103,
   "id": "fcb1046c",
   "metadata": {},
   "outputs": [],
   "source": [
    "def run_diagnosis(state:ReviewState):\n",
    "    prompt=f'Diagnosis this negative review {state['review']}'\n",
    "    response=diagnosis_model.invoke(prompt)\n",
    "    return{'diagnosis':response}\n",
    "    "
   ]
  },
  {
   "cell_type": "code",
   "execution_count": 104,
   "id": "8801a6d2",
   "metadata": {},
   "outputs": [],
   "source": [
    "def positive_response(state:ReviewState):\n",
    "    prompt=f'Write the warm thankyou message for the following feedback\\n {state['review']}'\n",
    "    response=model.invoke(prompt)\n",
    "    return {'response':response.content}"
   ]
  },
  {
   "cell_type": "code",
   "execution_count": 105,
   "id": "0362c4b2",
   "metadata": {},
   "outputs": [],
   "source": [
    "def review_negative(state:ReviewState):\n",
    "    diagnosis=state['diagnosis'].dict()\n",
    "    review=state['review']\n",
    "    prompt=f'Write the sorry message for this {review}, The user had this issue {diagnosis['issue_type']} , and is this {diagnosis['urgency']} and giving the response in this tone {diagnosis['tone']}'\n",
    "    response=model.invoke(prompt)\n",
    "    return {'response':response.content}"
   ]
  },
  {
   "cell_type": "code",
   "execution_count": 106,
   "id": "4cf3c501",
   "metadata": {},
   "outputs": [
    {
     "data": {
      "image/png": "[encoded data removed]",
      "text/plain": [
       "<langgraph.graph.state.CompiledStateGraph object at 0x0000020FC9C35130>"
      ]
     },
     "execution_count": 106,
     "metadata": {},
     "output_type": "execute_result"
    }
   ],
   "source": [
    "# make the graph\n",
    "graph=StateGraph(ReviewState)\n",
    "\n",
    "# make the nodes\n",
    "graph.add_node('review_negative',review_negative)\n",
    "graph.add_node('positive_response',positive_response)\n",
    "graph.add_node('run_diagnosis',run_diagnosis)\n",
    "graph.add_node('find_sentiment',find_sentiment)\n",
    "\n",
    "# add the edges\n",
    "graph.add_edge(START,'find_sentiment')\n",
    "graph.add_conditional_edges('find_sentiment',check_sentiment)\n",
    "graph.add_edge('positive_response',END)\n",
    "graph.add_edge('run_diagnosis','review_negative')\n",
    "graph.add_edge('review_negative',END)\n",
    "\n",
    "# make the workflow\n",
    "workflow=graph.compile()\n",
    "workflow"
   ]
  },
  {
   "cell_type": "code",
   "execution_count": 107,
   "id": "95be12b1",
   "metadata": {},
   "outputs": [],
   "source": [
    "initial_state={\n",
    "    'review':'Completely disappointed! The product stopped working within a week and customer service is unhelpful. Fix this immediately!'\n",
    "}"
   ]
  },
  {
   "cell_type": "code",
   "execution_count": 108,
   "id": "50ae08d9",
   "metadata": {},
   "outputs": [
    {
     "name": "stderr",
     "output_type": "stream",
     "text": [
      "C:\\Users\\rijan\\AppData\\Local\\Temp\\ipykernel_5388\\2856729728.py:2: PydanticDeprecatedSince20: The `dict` method is deprecated; use `model_dump` instead. Deprecated in Pydantic V2.0 to be removed in V3.0. See Pydantic V2 Migration Guide at https://errors.pydantic.dev/2.11/migration/\n",
      "  diagnosis=state['diagnosis'].dict()\n"
     ]
    },
    {
     "data": {
      "text/plain": [
       "{'review': 'Completely disappointed! The product stopped working within a week and customer service is unhelpful. Fix this immediately!',\n",
       " 'sentiment': 'negative',\n",
       " 'diagnosis': diagnosisSchema(issue_type='Features', tone='angry', urgency='urgent'),\n",
       " 'response': 'Here are a few options for a sorry message, keeping the angry tone in mind, while still aiming to address the user\\'s urgent issue:\\n\\n**Option 1 (Direct and Demanding):**\\n\\n> **ARE YOU KIDDING ME?!** A week? And your \"customer service\" is useless? This is **COMPLETELY UNACCEPTABLE!** You need to fix this **RIGHT NOW**. I expect an immediate resolution to this faulty product and the abysmal support I\\'ve received. Don\\'t give me excuses, **FIX IT.**\\n\\n**Option 2 (Slightly More Formal, but Still Angry):**\\n\\n> I am beyond furious. This product failing in a week is a joke, and your customer service has been a complete waste of time. This is **URGENT**. I demand an immediate and effective solution to this problem. **GET THIS RESOLVED IMMEDIATELY.**\\n\\n**Option 3 (Short and Sharp):**\\n\\n> **ENOUGH IS ENOUGH!** Product dead in a week, customer service a joke. This is **URGENT**. **FIX THIS NOW.** No more delays.\\n\\n**Key elements used to convey anger and urgency:**\\n\\n*   **Capitalization:** Used for emphasis on key words and phrases.\\n*   **Exclamation Points:** Used frequently to convey heightened emotion.\\n*   **Strong Negative Language:** Words like \"kidding me,\" \"unacceptable,\" \"furious,\" \"joke,\" \"abysmal.\"\\n*   **Direct Demands:** Phrases like \"You need to fix this,\" \"I demand,\" \"GET THIS RESOLVED.\"\\n*   **Emphasis on Immediacy:** Words like \"immediately,\" \"right now,\" \"now.\"\\n\\n**Important Considerations:**\\n\\n*   **Context:** While this matches the requested angry tone, be aware that this level of anger in a response can sometimes escalate a situation further.\\n*   **Your Role:** If you are a real customer service representative, this tone is generally *not* recommended for actual customer interactions, even when the customer is angry. This response is written *as if* you are mirroring the user\\'s anger back to them, as per your prompt.\\n\\nChoose the option that best fits the specific context you have in mind for this angry \"sorry\" message.'}"
      ]
     },
     "execution_count": 108,
     "metadata": {},
     "output_type": "execute_result"
    }
   ],
   "source": [
    "result=workflow.invoke(initial_state)\n",
    "result"
   ]
  },
  {
   "cell_type": "code",
   "execution_count": 109,
   "id": "2d82ef14",
   "metadata": {},
   "outputs": [],
   "source": [
    "initial_state1={\n",
    "    'review':'The product has potential, but the design and usability need improvement. I hope future versions address these issues.'\n",
    "}"
   ]
  },
  {
   "cell_type": "code",
   "execution_count": 110,
   "id": "f7810ee0",
   "metadata": {},
   "outputs": [
    {
     "name": "stderr",
     "output_type": "stream",
     "text": [
      "C:\\Users\\rijan\\AppData\\Local\\Temp\\ipykernel_5388\\2856729728.py:2: PydanticDeprecatedSince20: The `dict` method is deprecated; use `model_dump` instead. Deprecated in Pydantic V2.0 to be removed in V3.0. See Pydantic V2 Migration Guide at https://errors.pydantic.dev/2.11/migration/\n",
      "  diagnosis=state['diagnosis'].dict()\n"
     ]
    },
    {
     "data": {
      "text/plain": [
       "{'review': 'The product has potential, but the design and usability need improvement. I hope future versions address these issues.',\n",
       " 'sentiment': 'negative',\n",
       " 'diagnosis': diagnosisSchema(issue_type='UI', tone='frustrated', urgency='normal'),\n",
       " 'response': 'Here are a few options for a frustrated apology, playing on different shades of annoyance:\\n\\n**Option 1 (Direct & Slightly Exasperated):**\\n\\n> Ugh, look, I\\'m sorry the UI is giving you such a headache. Honestly, we *know* it\\'s not where it needs to be. We see the potential in the product, but yeah, the design and usability are clearly a major roadblock right now. We\\'re definitely aware and *hope* future versions actually fix these glaring issues.\\n\\n**Option 2 (More Focused on the User\\'s Pain):**\\n\\n> Seriously, I apologize that the UI experience is so frustrating for you. It\\'s clearly not intuitive, and that\\'s on us. We see the core concept has legs, but dealing with a clunky design is just infuriating. We\\'re banking on future updates to actually make this thing usable.\\n\\n**Option 3 (Short, Sharp, and Acknowledging the Obvious):**\\n\\n> Yeah, sorry about the UI. It\\'s a mess, we get it. The product *could* be good, but right now, the design is actively working against you. We\\'re hoping the next versions actually address these fundamental usability problems.\\n\\n**Key elements used to convey frustration:**\\n\\n* **Exclamations and informal language:** \"Ugh,\" \"Seriously,\" \"Yeah,\" \"It\\'s a mess.\"\\n* **Acknowledging the user\\'s feeling:** \"giving you such a headache,\" \"infuriating.\"\\n* **Implying the issues are obvious:** \"we *know* it\\'s not where it needs to be,\" \"glaring issues,\" \"actively working against you.\"\\n* **Slightly hedging the future:** Using \"hope\" instead of a firm commitment, suggesting the current state is unacceptable.\\n\\nChoose the one that best fits the specific context of your interaction!'}"
      ]
     },
     "execution_count": 110,
     "metadata": {},
     "output_type": "execute_result"
    }
   ],
   "source": [
    "result1=workflow.invoke(initial_state1)\n",
    "result1"
   ]
  },
  {
   "cell_type": "code",
   "execution_count": null,
   "id": "4fa4ebce",
   "metadata": {},
   "outputs": [],
   "source": []
  },
  {
   "cell_type": "code",
   "execution_count": null,
   "id": "788daaee",
   "metadata": {},
   "outputs": [],
   "source": []
  },
  {
   "cell_type": "code",
   "execution_count": null,
   "id": "a2a2d6cb",
   "metadata": {},
   "outputs": [],
   "source": []
  },
  {
   "cell_type": "code",
   "execution_count": null,
   "id": "a27085ee",
   "metadata": {},
   "outputs": [],
   "source": []
  },
  {
   "cell_type": "code",
   "execution_count": null,
   "id": "9158bc63",
   "metadata": {},
   "outputs": [],
   "source": []
  }
 ],
 "metadata": {
  "kernelspec": {
   "display_name": "genai (3.12.7)",
   "language": "python",
   "name": "python3"
  },
  "language_info": {
   "codemirror_mode": {
    "name": "ipython",
    "version": 3
   },
   "file_extension": ".py",
   "mimetype": "text/x-python",
   "name": "python",
   "nbconvert_exporter": "python",
   "pygments_lexer": "ipython3",
   "version": "3.12.7"
  }
 },
 "nbformat": 4,
 "nbformat_minor": 5
}
